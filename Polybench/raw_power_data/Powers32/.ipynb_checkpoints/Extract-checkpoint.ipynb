{
 "cells": [
  {
   "cell_type": "code",
   "execution_count": 1,
   "id": "c5d73af7-6069-4f83-b6a5-1c781e87301c",
   "metadata": {},
   "outputs": [],
   "source": [
    "import pandas as pd\n",
    "import numpy as np\n",
    "import matplotlib.pyplot as plt\n",
    "import subprocess"
   ]
  },
  {
   "cell_type": "code",
   "execution_count": 2,
   "id": "4a8ad753-5533-48c8-819a-024c51a2b907",
   "metadata": {},
   "outputs": [
    {
     "name": "stdout",
     "output_type": "stream",
     "text": [
      "['2mm.csv', '3mm.csv', 'adi.csv', 'atax.csv', 'bicg.csv', 'cholesky.csv', 'correlation.csv', 'covariance.csv', 'deriche.csv', 'doitgen.csv', 'durbin.csv', 'fdtd-2d.csv', 'floyd-warshall.csv', 'gemm.csv', 'gemver.csv', 'gesummv.csv', 'gramschmidt.csv', 'heat-3d.csv', 'jacobi-1d.csv', 'jacobi-2d.csv', 'lu.csv', 'ludcmp.csv', 'mvt.csv', 'nussinov.csv', 'seidel-2d.csv', 'symm.csv', 'syr2k.csv', 'syrk.csv', 'trisolv.csv', 'trmm.csv']\n"
     ]
    }
   ],
   "source": [
    "# Run the 'ls' command and capture its output\n",
    "command = \"ls *.csv\"\n",
    "output = subprocess.check_output(command, shell=True, text=True)\n",
    "\n",
    "# Print the captured output\n",
    "files = output.split()\n",
    "print(files)"
   ]
  },
  {
   "cell_type": "code",
   "execution_count": 3,
   "id": "1494f3c3-9d2f-465b-bef1-5c032f0ac23d",
   "metadata": {},
   "outputs": [],
   "source": [
    "def edit_file(input_file, output_file, n):\n",
    "    with open(input_file, 'r') as f:\n",
    "        lines = f.readlines()\n",
    "\n",
    "    with open(output_file, 'w') as f:\n",
    "        f.writelines(lines[n:-n])\n"
   ]
  },
  {
   "cell_type": "code",
   "execution_count": 4,
   "id": "0f992359-3fba-4c05-aaf5-663d61cb3775",
   "metadata": {},
   "outputs": [
    {
     "ename": "NameError",
     "evalue": "name 'file' is not defined",
     "output_type": "error",
     "traceback": [
      "\u001b[0;31m---------------------------------------------------------------------------\u001b[0m",
      "\u001b[0;31mNameError\u001b[0m                                 Traceback (most recent call last)",
      "Cell \u001b[0;32mIn[4], line 4\u001b[0m\n\u001b[1;32m      2\u001b[0m n \u001b[38;5;241m=\u001b[39m \u001b[38;5;241m10\u001b[39m\n\u001b[1;32m      3\u001b[0m \u001b[38;5;28;01mfor\u001b[39;00m i \u001b[38;5;129;01min\u001b[39;00m files:\n\u001b[0;32m----> 4\u001b[0m     output\u001b[38;5;241m=\u001b[39m\u001b[38;5;124m'\u001b[39m\u001b[38;5;124m../../Powers/power32-0/\u001b[39m\u001b[38;5;124m'\u001b[39m\u001b[38;5;241m+\u001b[39m\u001b[43mfile\u001b[49m\n\u001b[1;32m      5\u001b[0m     edit_file(i, output, n)\n",
      "\u001b[0;31mNameError\u001b[0m: name 'file' is not defined"
     ]
    }
   ],
   "source": [
    "# Deleting some unnecessary lines from the rawdata\n",
    "n = 10\n",
    "for file in files:\n",
    "    output='../../Powers/power32-0/'+file\n",
    "    edit_file(file, output, n)"
   ]
  },
  {
   "cell_type": "code",
   "execution_count": null,
   "id": "bc03682a-98e2-4ddc-bd62-adfeff369dc1",
   "metadata": {},
   "outputs": [],
   "source": [
    "column_indices=[0, 5, 6, 7]\n",
    "for file in files:\n",
    "    df=pd.read_csv(file, header=None, usecols=column_indices)\n",
    "    df.columns=['time_stamp', 'voltage', 'current', 'power']\n",
    "    # most of the data is stored in alternative columns; \n",
    "    df2=df[::2] # data in even columns\n",
    "    change = df2.isna().any().any() \n",
    "    if(change):\n",
    "        df2=df[1::2] # data in odd columns\n",
    "    df=df2\n",
    "\n",
    "    # plotting time vs power\n",
    "    output='../../Powers/power32-0/plots/'+file+'.png'\n",
    "    x=np.array(df['time_stamp'])\n",
    "    y=np.array(df['power'])\n",
    "    plt.plot(x, y)\n",
    "    plt.xlabel('time stamp')\n",
    "    plt.ylabel('power')\n",
    "    plt.title(file)\n",
    "    plt.legend()\n",
    "    plt.savefig(output)\n",
    "    plt.show()\n",
    "    \n",
    "    output='../../Powers/power32-0/'+file\n",
    "    df.to_csv(output, index=False)"
   ]
  },
  {
   "cell_type": "code",
   "execution_count": null,
   "id": "74570a77-7828-49ad-a712-03964792d408",
   "metadata": {},
   "outputs": [],
   "source": []
  }
 ],
 "metadata": {
  "kernelspec": {
   "display_name": "Python 3 (ipykernel)",
   "language": "python",
   "name": "python3"
  },
  "language_info": {
   "codemirror_mode": {
    "name": "ipython",
    "version": 3
   },
   "file_extension": ".py",
   "mimetype": "text/x-python",
   "name": "python",
   "nbconvert_exporter": "python",
   "pygments_lexer": "ipython3",
   "version": "3.10.12"
  }
 },
 "nbformat": 4,
 "nbformat_minor": 5
}
