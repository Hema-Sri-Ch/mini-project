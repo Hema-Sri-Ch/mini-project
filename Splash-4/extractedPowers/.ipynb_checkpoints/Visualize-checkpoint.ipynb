{
 "cells": [
  {
   "cell_type": "code",
   "execution_count": 1,
   "id": "7bcdfa2c-54bd-4c85-b2f6-bb25dd79c6d1",
   "metadata": {},
   "outputs": [],
   "source": [
    "import pandas as pd\n",
    "import numpy as np\n",
    "import matplotlib.pyplot as plt\n",
    "import subprocess\n",
    "from statistics import mean"
   ]
  },
  {
   "cell_type": "code",
   "execution_count": 2,
   "id": "f3e68247-7784-497f-9ce4-34e4543cb3d0",
   "metadata": {},
   "outputs": [],
   "source": [
    "# Run the 'ls' command and capture its output\n",
    "command = \"ls small32/*.csv\"\n",
    "output = subprocess.check_output(command, shell=True, text=True)\n",
    "\n",
    "# Print the captured output\n",
    "files = output.split()"
   ]
  },
  {
   "cell_type": "code",
   "execution_count": 3,
   "id": "a932836b-5868-4711-a5fe-827d281dcaf7",
   "metadata": {},
   "outputs": [],
   "source": [
    "Y1 = []\n",
    "X1 = []\n",
    "Energy1 = []\n",
    "for file in files:\n",
    "    df = pd.read_csv(file)\n",
    "    Y1.append(df['power'].mean()/1000)\n",
    "    time = np.array(df['time_stamp'])\n",
    "    Energy1.append((df['power'].mean()/1000)*((time[-1] - time[0])/1000))\n",
    "    t = file.find('/')\n",
    "    X1.append(file[t+1:-4])"
   ]
  },
  {
   "cell_type": "code",
   "execution_count": 4,
   "id": "a6596eda",
   "metadata": {},
   "outputs": [
    {
     "name": "stdout",
     "output_type": "stream",
     "text": [
      "['barnes_p1', 'barnes_p2', 'barnes_p3', 'barnes_p4', 'cholesky_p1', 'cholesky_p2', 'cholesky_p3', 'cholesky_p4', 'fft_p1', 'fft_p2', 'fft_p4', 'fmm_p1', 'fmm_p2', 'fmm_p3', 'fmm_p4', 'lu-cont_p1', 'lu-cont_p2', 'lu-cont_p3', 'lu-cont_p4', 'lu-nocont_p1', 'lu-nocont_p2', 'lu-nocont_p3', 'lu-nocont_p4', 'ocean-cont_p1', 'ocean-cont_p2', 'ocean-cont_p4', 'ocean-nocont_p1', 'ocean-nocont_p2', 'ocean-nocont_p4', 'radiosity_p1', 'radiosity_p2', 'radiosity_p3', 'radiosity_p4', 'radix_p1', 'radix_p2', 'radix_p4', 'raytrace_p1', 'raytrace_p2', 'raytrace_p3', 'raytrace_p4', 'water-nsquared_p1', 'water-nsquared_p2', 'water-nsquared_p3', 'water-nsquared_p4', 'water-spatial_p1', 'water-spatial_p2', 'water-spatial_p3', 'water-spatial_p4']\n",
      "[3.056529373789542, 3.102385491606715, 3.1334468842729972, 3.149116129032258, 3.282625, 3.26746875, 3.29496875, 3.3137419354838706, 3.1056666666666666, 3.002, 3.653, 3.118842424242424, 3.1282041547277935, 3.129618620689655, 3.140844945355191, 3.1550833333333337, 3.160318181818182, 2.98444, 3.0427222222222223, 3.2782666666666667, 3.157391304347826, 3.162923076923077, 3.0595, 3.56696875, 2.9768000000000003, 2.928532520325203, 3.5094358974358975, 2.991332155477032, 2.9381365546218485, 3.119086956521739, 3.1078297872340426, 3.1146111111111114, 3.092578947368421, 3.297222222222222, 3.2245384615384616, 2.990875, 3.1929591836734694, 3.20278, 3.16682, 3.1781960784313723, 3.038111111111111, 2.9851714285714284, 2.9646739130434785, 2.9761333333333333, 3.170533333333333, 2.881341463414634, 2.9794761904761904, 2.954875]\n"
     ]
    },
    {
     "data": {
      "text/plain": [
       "3.1339192356338073"
      ]
     },
     "execution_count": 4,
     "metadata": {},
     "output_type": "execute_result"
    }
   ],
   "source": [
    "print(X1)\n",
    "print(Y1)\n",
    "mean(Y1)"
   ]
  },
  {
   "cell_type": "code",
   "execution_count": 5,
   "id": "31fe5eb6-fc60-4d56-915f-dd88e8bb771b",
   "metadata": {},
   "outputs": [
    {
     "name": "stdout",
     "output_type": "stream",
     "text": [
      "['big32/barnes_p1.csv', 'big32/barnes_p2.csv', 'big32/barnes_p3.csv', 'big32/barnes_p4.csv', 'big32/cholesky_p1.csv', 'big32/cholesky_p2.csv', 'big32/cholesky_p3.csv', 'big32/cholesky_p4.csv', 'big32/fft_p1.csv', 'big32/fft_p2.csv', 'big32/fft_p4.csv', 'big32/fmm_p1.csv', 'big32/fmm_p2.csv', 'big32/fmm_p3.csv', 'big32/fmm_p4.csv', 'big32/lu-cont_p1.csv', 'big32/lu-cont_p2.csv', 'big32/lu-cont_p3.csv', 'big32/lu-cont_p4.csv', 'big32/lu-nocont_p1.csv', 'big32/lu-nocont_p2.csv', 'big32/lu-nocont_p3.csv', 'big32/lu-nocont_p4.csv', 'big32/ocean-cont_p1.csv', 'big32/ocean-cont_p2.csv', 'big32/ocean-cont_p4.csv', 'big32/ocean-nocont_p1.csv', 'big32/ocean-nocont_p2.csv', 'big32/ocean-nocont_p4.csv', 'big32/radiosity_p1.csv', 'big32/radiosity_p2.csv', 'big32/radiosity_p3.csv', 'big32/radiosity_p4.csv', 'big32/radix_p1.csv', 'big32/radix_p2.csv', 'big32/radix_p4.csv', 'big32/raytrace_p1.csv', 'big32/raytrace_p2.csv', 'big32/raytrace_p3.csv', 'big32/raytrace_p4.csv', 'big32/water-nsquared_p1.csv', 'big32/water-nsquared_p2.csv', 'big32/water-nsquared_p3.csv', 'big32/water-nsquared_p4.csv', 'big32/water-spatial_p1.csv', 'big32/water-spatial_p2.csv', 'big32/water-spatial_p3.csv', 'big32/water-spatial_p4.csv']\n"
     ]
    }
   ],
   "source": [
    "command = \"ls big32/*.csv\"\n",
    "output = subprocess.check_output(command, shell=True, text=True)\n",
    "\n",
    "files = output.split()\n",
    "print(files)"
   ]
  },
  {
   "cell_type": "code",
   "execution_count": 6,
   "id": "ef768654-b025-4591-9a73-ba79a225277c",
   "metadata": {},
   "outputs": [
    {
     "ename": "KeyError",
     "evalue": "'power'",
     "output_type": "error",
     "traceback": [
      "\u001b[0;31m---------------------------------------------------------------------------\u001b[0m",
      "\u001b[0;31mKeyError\u001b[0m                                  Traceback (most recent call last)",
      "File \u001b[0;32m~/jupyter/environment/lib/python3.10/site-packages/pandas/core/indexes/base.py:3790\u001b[0m, in \u001b[0;36mIndex.get_loc\u001b[0;34m(self, key)\u001b[0m\n\u001b[1;32m   3789\u001b[0m \u001b[38;5;28;01mtry\u001b[39;00m:\n\u001b[0;32m-> 3790\u001b[0m     \u001b[38;5;28;01mreturn\u001b[39;00m \u001b[38;5;28;43mself\u001b[39;49m\u001b[38;5;241;43m.\u001b[39;49m\u001b[43m_engine\u001b[49m\u001b[38;5;241;43m.\u001b[39;49m\u001b[43mget_loc\u001b[49m\u001b[43m(\u001b[49m\u001b[43mcasted_key\u001b[49m\u001b[43m)\u001b[49m\n\u001b[1;32m   3791\u001b[0m \u001b[38;5;28;01mexcept\u001b[39;00m \u001b[38;5;167;01mKeyError\u001b[39;00m \u001b[38;5;28;01mas\u001b[39;00m err:\n",
      "File \u001b[0;32mindex.pyx:152\u001b[0m, in \u001b[0;36mpandas._libs.index.IndexEngine.get_loc\u001b[0;34m()\u001b[0m\n",
      "File \u001b[0;32mindex.pyx:181\u001b[0m, in \u001b[0;36mpandas._libs.index.IndexEngine.get_loc\u001b[0;34m()\u001b[0m\n",
      "File \u001b[0;32mpandas/_libs/hashtable_class_helper.pxi:7080\u001b[0m, in \u001b[0;36mpandas._libs.hashtable.PyObjectHashTable.get_item\u001b[0;34m()\u001b[0m\n",
      "File \u001b[0;32mpandas/_libs/hashtable_class_helper.pxi:7088\u001b[0m, in \u001b[0;36mpandas._libs.hashtable.PyObjectHashTable.get_item\u001b[0;34m()\u001b[0m\n",
      "\u001b[0;31mKeyError\u001b[0m: 'power'",
      "\nThe above exception was the direct cause of the following exception:\n",
      "\u001b[0;31mKeyError\u001b[0m                                  Traceback (most recent call last)",
      "Cell \u001b[0;32mIn[6], line 6\u001b[0m\n\u001b[1;32m      4\u001b[0m \u001b[38;5;28;01mfor\u001b[39;00m file \u001b[38;5;129;01min\u001b[39;00m files:\n\u001b[1;32m      5\u001b[0m     df \u001b[38;5;241m=\u001b[39m pd\u001b[38;5;241m.\u001b[39mread_csv(file)\n\u001b[0;32m----> 6\u001b[0m     Y2\u001b[38;5;241m.\u001b[39mappend(\u001b[43mdf\u001b[49m\u001b[43m[\u001b[49m\u001b[38;5;124;43m'\u001b[39;49m\u001b[38;5;124;43mpower\u001b[39;49m\u001b[38;5;124;43m'\u001b[39;49m\u001b[43m]\u001b[49m\u001b[38;5;241m.\u001b[39mmean()\u001b[38;5;241m/\u001b[39m\u001b[38;5;241m1000\u001b[39m)\n\u001b[1;32m      7\u001b[0m     time \u001b[38;5;241m=\u001b[39m np\u001b[38;5;241m.\u001b[39marray(df[\u001b[38;5;124m'\u001b[39m\u001b[38;5;124mtime_stamp\u001b[39m\u001b[38;5;124m'\u001b[39m])\n\u001b[1;32m      8\u001b[0m     Energy2\u001b[38;5;241m.\u001b[39mappend((df[\u001b[38;5;124m'\u001b[39m\u001b[38;5;124mpower\u001b[39m\u001b[38;5;124m'\u001b[39m]\u001b[38;5;241m.\u001b[39mmean()\u001b[38;5;241m/\u001b[39m\u001b[38;5;241m1000\u001b[39m)\u001b[38;5;241m*\u001b[39m((time[\u001b[38;5;241m-\u001b[39m\u001b[38;5;241m1\u001b[39m] \u001b[38;5;241m-\u001b[39m time[\u001b[38;5;241m0\u001b[39m])\u001b[38;5;241m/\u001b[39m\u001b[38;5;241m1000\u001b[39m))\n",
      "File \u001b[0;32m~/jupyter/environment/lib/python3.10/site-packages/pandas/core/frame.py:3896\u001b[0m, in \u001b[0;36mDataFrame.__getitem__\u001b[0;34m(self, key)\u001b[0m\n\u001b[1;32m   3894\u001b[0m \u001b[38;5;28;01mif\u001b[39;00m \u001b[38;5;28mself\u001b[39m\u001b[38;5;241m.\u001b[39mcolumns\u001b[38;5;241m.\u001b[39mnlevels \u001b[38;5;241m>\u001b[39m \u001b[38;5;241m1\u001b[39m:\n\u001b[1;32m   3895\u001b[0m     \u001b[38;5;28;01mreturn\u001b[39;00m \u001b[38;5;28mself\u001b[39m\u001b[38;5;241m.\u001b[39m_getitem_multilevel(key)\n\u001b[0;32m-> 3896\u001b[0m indexer \u001b[38;5;241m=\u001b[39m \u001b[38;5;28;43mself\u001b[39;49m\u001b[38;5;241;43m.\u001b[39;49m\u001b[43mcolumns\u001b[49m\u001b[38;5;241;43m.\u001b[39;49m\u001b[43mget_loc\u001b[49m\u001b[43m(\u001b[49m\u001b[43mkey\u001b[49m\u001b[43m)\u001b[49m\n\u001b[1;32m   3897\u001b[0m \u001b[38;5;28;01mif\u001b[39;00m is_integer(indexer):\n\u001b[1;32m   3898\u001b[0m     indexer \u001b[38;5;241m=\u001b[39m [indexer]\n",
      "File \u001b[0;32m~/jupyter/environment/lib/python3.10/site-packages/pandas/core/indexes/base.py:3797\u001b[0m, in \u001b[0;36mIndex.get_loc\u001b[0;34m(self, key)\u001b[0m\n\u001b[1;32m   3792\u001b[0m     \u001b[38;5;28;01mif\u001b[39;00m \u001b[38;5;28misinstance\u001b[39m(casted_key, \u001b[38;5;28mslice\u001b[39m) \u001b[38;5;129;01mor\u001b[39;00m (\n\u001b[1;32m   3793\u001b[0m         \u001b[38;5;28misinstance\u001b[39m(casted_key, abc\u001b[38;5;241m.\u001b[39mIterable)\n\u001b[1;32m   3794\u001b[0m         \u001b[38;5;129;01mand\u001b[39;00m \u001b[38;5;28many\u001b[39m(\u001b[38;5;28misinstance\u001b[39m(x, \u001b[38;5;28mslice\u001b[39m) \u001b[38;5;28;01mfor\u001b[39;00m x \u001b[38;5;129;01min\u001b[39;00m casted_key)\n\u001b[1;32m   3795\u001b[0m     ):\n\u001b[1;32m   3796\u001b[0m         \u001b[38;5;28;01mraise\u001b[39;00m InvalidIndexError(key)\n\u001b[0;32m-> 3797\u001b[0m     \u001b[38;5;28;01mraise\u001b[39;00m \u001b[38;5;167;01mKeyError\u001b[39;00m(key) \u001b[38;5;28;01mfrom\u001b[39;00m \u001b[38;5;21;01merr\u001b[39;00m\n\u001b[1;32m   3798\u001b[0m \u001b[38;5;28;01mexcept\u001b[39;00m \u001b[38;5;167;01mTypeError\u001b[39;00m:\n\u001b[1;32m   3799\u001b[0m     \u001b[38;5;66;03m# If we have a listlike key, _check_indexing_error will raise\u001b[39;00m\n\u001b[1;32m   3800\u001b[0m     \u001b[38;5;66;03m#  InvalidIndexError. Otherwise we fall through and re-raise\u001b[39;00m\n\u001b[1;32m   3801\u001b[0m     \u001b[38;5;66;03m#  the TypeError.\u001b[39;00m\n\u001b[1;32m   3802\u001b[0m     \u001b[38;5;28mself\u001b[39m\u001b[38;5;241m.\u001b[39m_check_indexing_error(key)\n",
      "\u001b[0;31mKeyError\u001b[0m: 'power'"
     ]
    }
   ],
   "source": [
    "Y2 = []\n",
    "X2 = []\n",
    "Energy2 = []\n",
    "for file in files:\n",
    "    df = pd.read_csv(file)\n",
    "    Y2.append(df['power'].mean()/1000)\n",
    "    time = np.array(df['time_stamp'])\n",
    "    Energy2.append((df['power'].mean()/1000)*((time[-1] - time[0])/1000))\n",
    "    t = file.find('/')\n",
    "    X2.append(file[t+1:-4])"
   ]
  },
  {
   "cell_type": "code",
   "execution_count": null,
   "id": "4659ab5c",
   "metadata": {},
   "outputs": [],
   "source": [
    "print(Y2)\n",
    "mean(Y2)"
   ]
  },
  {
   "cell_type": "code",
   "execution_count": null,
   "id": "47b0068a-03b4-4e61-a663-8c63f6f68470",
   "metadata": {},
   "outputs": [],
   "source": [
    "# Run the 'ls' command and capture its output\n",
    "command = \"ls small64/*.csv\"\n",
    "output = subprocess.check_output(command, shell=True, text=True)\n",
    "\n",
    "# Print the captured output\n",
    "files = output.split()"
   ]
  },
  {
   "cell_type": "code",
   "execution_count": null,
   "id": "23dd8ea4-06cc-47c9-933c-4d8b76881f3a",
   "metadata": {},
   "outputs": [],
   "source": [
    "Y3 = []\n",
    "X3 = []\n",
    "Energy3 = []\n",
    "for file in files:\n",
    "    df = pd.read_csv(file)\n",
    "    Y3.append(df['power'].mean()/1000)\n",
    "    time = np.array(df['time_stamp'])\n",
    "    Energy3.append((df['power'].mean()/1000)*((int(time[-1]) - int(time[0]))/1000))\n",
    "    t = file.find('/')\n",
    "    X3.append(file[t+1:-4])\n"
   ]
  },
  {
   "cell_type": "code",
   "execution_count": null,
   "id": "4b2d5bbf",
   "metadata": {},
   "outputs": [],
   "source": [
    "print(Y3)\n",
    "print(Energy3)\n",
    "mean(Y3)"
   ]
  },
  {
   "cell_type": "code",
   "execution_count": null,
   "id": "bf4137d3-7dff-4cf7-8567-1deb665f0e66",
   "metadata": {},
   "outputs": [],
   "source": [
    "# Run the 'ls' command and capture its output\n",
    "command = \"ls big64/*.csv\"\n",
    "output = subprocess.check_output(command, shell=True, text=True)\n",
    "\n",
    "# Print the captured output\n",
    "files = output.split()"
   ]
  },
  {
   "cell_type": "code",
   "execution_count": null,
   "id": "64d03fb5-209f-4d40-9d8f-5c551e252a51",
   "metadata": {},
   "outputs": [],
   "source": [
    "Y4 = []\n",
    "X4 = []\n",
    "Energy4 = []\n",
    "for file in files:\n",
    "    df = pd.read_csv(file)\n",
    "    Y4.append(df['power'].mean()/1000)\n",
    "    time = np.array(df['time_stamp'])\n",
    "    Energy4.append((df['power'].mean()/1000)*((int(time[-1]) - int(time[0]))/1000))\n",
    "    t = file.find('/')\n",
    "    X4.append(file[t+1:-4])"
   ]
  },
  {
   "cell_type": "code",
   "execution_count": null,
   "id": "23ad6c6c",
   "metadata": {},
   "outputs": [],
   "source": [
    "print(Y4)\n",
    "mean(Y4)"
   ]
  },
  {
   "cell_type": "code",
   "execution_count": null,
   "id": "f60ef5d3-5933-445e-ac43-d6ec34e32502",
   "metadata": {},
   "outputs": [],
   "source": [
    "# Plotting small and big cores power averages\n",
    "barWidth = 0.5\n",
    "x = np.arange(len(X1))\n",
    "plt.bar(x, Y1, width = barWidth, label = \"little\")\n",
    "plt.bar(x+barWidth, Y2, width = barWidth, label = \"big\")\n",
    "#plt.xlabel(\"program name\")\n",
    "plt.ylabel(\"average power(W)\")\n",
    "plt.xticks(x+barWidth/2, X1, rotation=90, fontsize=8)\n",
    "plt.grid()\n",
    "plt.legend()\n",
    "plt.title(\"Average powers for XU4\")\n",
    "plt.tight_layout()\n",
    "plt.savefig(\"AvgPowersXU4.png\")"
   ]
  },
  {
   "cell_type": "code",
   "execution_count": null,
   "id": "a342c729-4ea7-49bf-8e2f-c864c290205e",
   "metadata": {},
   "outputs": [],
   "source": [
    "X4 = np.array(X4)\n",
    "Y4 = np.array(Y4)\n",
    "Energy4 = np.array(Energy4)\n",
    "\n",
    "print(X4[10], Y4[10], Energy4[10])\n",
    "print(X4.shape, Y4.shape, Energy4.shape)\n",
    "X4 = np.delete(X4, 10)\n",
    "Y4 = np.delete(Y4, 10)\n",
    "Energy4 = np.delete(Energy4, 10)\n",
    "\n",
    "print(X4.shape, Y4.shape, Energy4.shape)"
   ]
  },
  {
   "cell_type": "code",
   "execution_count": null,
   "id": "3c602dfc-9932-4b10-95a2-c3c4c1316172",
   "metadata": {},
   "outputs": [],
   "source": [
    "# Plotting small and big cores power averages\n",
    "barWidth = 0.5\n",
    "x = np.arange(len(X1))\n",
    "plt.bar(x, Y3, width = barWidth, label = \"little\")\n",
    "plt.bar(x+barWidth, Y4, width = barWidth, label = \"big\")\n",
    "#plt.xlabel(\"program name\")\n",
    "plt.ylabel(\"average power(W)\")\n",
    "plt.xticks(x+barWidth/2, X1, rotation=90, fontsize=8)\n",
    "plt.grid()\n",
    "plt.legend()\n",
    "plt.title(\"Average powers for N2L\")\n",
    "plt.tight_layout()\n",
    "plt.savefig(\"AvgPowersN2L.png\")"
   ]
  },
  {
   "cell_type": "code",
   "execution_count": null,
   "id": "fe6cb861-8494-4252-bdb6-92a1ee60dbcc",
   "metadata": {},
   "outputs": [],
   "source": [
    "# # Plotting Energy for small and big cores\n",
    "# barWidth = 0.5\n",
    "# x = np.arange(len(X1))\n",
    "# plt.bar(x, Energy1, width = barWidth, label = \"A7\")\n",
    "# plt.bar(x+barWidth, Energy2, width = barWidth, label = \"A15\")\n",
    "# #plt.xlabel(\"program name\")\n",
    "# plt.ylabel(\"Energy Consumed(J)\")\n",
    "# plt.ylim(0, 750)\n",
    "# plt.xticks(x+barWidth/2, X1, rotation=90)\n",
    "# plt.grid()\n",
    "# plt.legend()\n",
    "# plt.title(\"Energies for XU4\")\n",
    "# plt.tight_layout()\n",
    "# plt.savefig(\"plot3.png\")\n",
    "# plt.show()\n",
    "\n",
    "\n",
    "\n",
    "barWidth = 0.5\n",
    "x = np.arange(len(X1))\n",
    "\n",
    "# Plotting the bar graph\n",
    "plt.bar(x, Energy1, width=barWidth, label=\"little\")\n",
    "plt.bar(x + barWidth, Energy2, width=barWidth, label=\"Big\")\n",
    "\n",
    "# # Set y-axis limit\n",
    "# plt.ylim(0, 750)\n",
    "\n",
    "# t2 = 625\n",
    "# t1 = 650\n",
    "# # Annotate bars that exceed the y-axis limit\n",
    "# for i, (e3, e4) in enumerate(zip(Energy1, Energy2)):\n",
    "#     if e3 > plt.ylim()[1]:        \n",
    "#         plt.text(i, 600, f'{e3:.0f}', ha='center', va='bottom', color='black', fontsize=10,\n",
    "#                  bbox=dict(boxstyle='round', edgecolor='blue', facecolor='none', linewidth=1))\n",
    "\n",
    "#     if e4 > plt.ylim()[1]:\n",
    "#         if(t2==625):\n",
    "#             t2=675\n",
    "#         else:\n",
    "#             t2=625\n",
    "#         plt.text(i + barWidth, t2, f'{e4:.0f}', ha='center', va='bottom', color='black', fontsize=10,\n",
    "#                  bbox=dict(boxstyle='round', edgecolor='orange', facecolor='none', linewidth=1))\n",
    "\n",
    "plt.ylabel(\"Energy Consumed(J)\")\n",
    "plt.xticks(x + barWidth / 2, X3, rotation=90, fontsize=8)\n",
    "plt.grid()\n",
    "plt.legend()\n",
    "plt.title(\"Energies for XU4\")\n",
    "plt.tight_layout()\n",
    "plt.savefig(\"EnergiesXU4.png\")\n",
    "plt.show()"
   ]
  },
  {
   "cell_type": "code",
   "execution_count": null,
   "id": "3c154a28-f9fe-46bd-97ec-269166193222",
   "metadata": {},
   "outputs": [],
   "source": [
    "# # Plotting Energy for small and big cores\n",
    "# barWidth = 0.5\n",
    "# x = np.arange(len(X3))\n",
    "# plt.bar(x, Energy3, width = barWidth, label = \"A53\")\n",
    "# plt.bar(x+barWidth, Energy4, width = barWidth, label = \"A73\")\n",
    "# #plt.xlabel(\"program name\")\n",
    "# plt.ylabel(\"Energy Consumed(J)\")\n",
    "# plt.xticks(x+barWidth/2, X3, rotation=90)\n",
    "# plt.ylim(0, 250)\n",
    "# plt.grid()\n",
    "# plt.legend()\n",
    "# plt.title(\"Energies for N2L\")\n",
    "# plt.tight_layout()\n",
    "# plt.savefig(\"plot4.png\")\n",
    "# plt.show()\n",
    "\n",
    "\n",
    "\n",
    "\n",
    "barWidth = 0.5\n",
    "x = np.arange(len(X3))\n",
    "\n",
    "# Plotting the bar graph\n",
    "plt.bar(x, Energy3, width=barWidth, label=\"little\")\n",
    "plt.bar(x + barWidth, Energy4, width=barWidth, label=\"Big\")\n",
    "\n",
    "# # Set y-axis limit\n",
    "# plt.ylim(0, 300)\n",
    "\n",
    "# # Annotate bars that exceed the y-axis limit\n",
    "# for i, (e3, e4) in enumerate(zip(Energy3, Energy4)):\n",
    "#     t = 275\n",
    "#     if e3 > plt.ylim()[1]:\n",
    "#         if(i%4):\n",
    "#             t=275\n",
    "#         else:\n",
    "#             t=295\n",
    "#         plt.text(i, t, f'{e3:.0f}', ha='center', va='bottom', color='red', fontsize=10,\n",
    "#                  bbox=dict(boxstyle='round', edgecolor='red', facecolor='none', linewidth=1))\n",
    "\n",
    "#     if e4 > plt.ylim()[1]:\n",
    "#         plt.text(i + barWidth, t, f'{e4:.0f}', ha='center', va='bottom', color='red', fontsize=10,\n",
    "#                  bbox=dict(boxstyle='round', edgecolor='red', facecolor='none', linewidth=1))\n",
    "\n",
    "plt.ylabel(\"Energy Consumed(J)\")\n",
    "plt.xticks(x + barWidth / 2, X3, rotation=90, fontsize=8)\n",
    "plt.grid()\n",
    "plt.legend()\n",
    "plt.title(\"Energies for N2L\")\n",
    "plt.tight_layout()\n",
    "plt.savefig(\"EnergiesN2L.png\")\n",
    "plt.show()"
   ]
  },
  {
   "cell_type": "code",
   "execution_count": null,
   "id": "2359fb43-ae08-4a85-94d6-e6cb900b08aa",
   "metadata": {},
   "outputs": [],
   "source": [
    "# # Plotting shift ratios between small and big cores\n",
    "# pY = []\n",
    "# eY = []\n",
    "# for i in range(30):\n",
    "#     pY.append(Y2[i]/Y1[i])\n",
    "#     eY.append(Energy2[i]/Energy1[i])\n",
    "# barWidth = 0.5\n",
    "# plt.bar(x, pY, width = barWidth, label = \"power ratios\")\n",
    "# plt.bar(x+barWidth, eY, width = barWidth, label = \"Energy ratios\")\n",
    "# plt.grid()\n",
    "# plt.title(\"Ratios of powers between small and big cores of XU6\")\n",
    "# plt.xticks(x+barWidth/2, X1, rotation=90)\n",
    "# plt.legend()\n",
    "# plt.tight_layout()\n",
    "# plt.savefig(\"plot3.png\")\n",
    "# plt.show()"
   ]
  },
  {
   "cell_type": "code",
   "execution_count": null,
   "id": "6c942e0a-0688-4f09-bcb5-f8b6815df243",
   "metadata": {},
   "outputs": [],
   "source": [
    "pY = []\n",
    "for i in range(48):\n",
    "    pY.append(Y2[i]/Y1[i])\n",
    "print(Y2)\n",
    "print(Y1)\n",
    "print(pY)\n",
    "plt.bar(X1, pY)\n",
    "plt.axhline(y=1, linestyle='--', color='red')\n",
    "plt.grid()\n",
    "plt.xticks(rotation=90)\n",
    "plt.grid()\n",
    "plt.title(\"Ratios of powers between big and little cores of XU4\")\n",
    "plt.tight_layout()\n",
    "plt.savefig(\"PowerRatioXU4.png\")\n",
    "plt.show()"
   ]
  },
  {
   "cell_type": "code",
   "execution_count": null,
   "id": "c5025895-2625-439f-a065-3af18ff16ec8",
   "metadata": {},
   "outputs": [],
   "source": [
    "pY = []\n",
    "for i in range(48):\n",
    "    pY.append(Y4[i]/Y3[i])\n",
    "plt.bar(X3, pY)\n",
    "plt.axhline(y=1, linestyle='--', color='red')\n",
    "plt.grid()\n",
    "plt.xticks(rotation=90)\n",
    "plt.grid()\n",
    "plt.title(\"Ratios of powers between small and big cores of N2L\")\n",
    "plt.tight_layout()\n",
    "plt.savefig(\"PowerRatioN2L.png\")\n",
    "plt.show()"
   ]
  },
  {
   "cell_type": "code",
   "execution_count": null,
   "id": "45869f9c-b471-4588-9723-6583a8bbf9f5",
   "metadata": {},
   "outputs": [],
   "source": [
    "eY = []\n",
    "for i in range(48):\n",
    "    eY.append(Energy2[i]/Energy1[i])\n",
    "# plt.bar(X1, eY)\n",
    "# plt.xticks(rotation=90)\n",
    "# plt.ylim(0, 3)\n",
    "# plt.axhline(y=1, linestyle='--', color='red')\n",
    "# plt.grid()\n",
    "# plt.title(\"Ratios of Energies between small and big cores of XU4\")\n",
    "# plt.legend()\n",
    "# plt.tight_layout()\n",
    "# plt.savefig(\"plot7.png\")\n",
    "# plt.show()\n",
    "# Plotting the bar graph with adjusted bar width and positions\n",
    "fig, ax = plt.subplots()\n",
    "\n",
    "# Adjust the width of each bar\n",
    "bar_width = 0.8\n",
    "\n",
    "# Compute the positions of the bars with additional space\n",
    "bar_positions = np.arange(len(X1)) * (bar_width + 0.2)\n",
    "\n",
    "# Plot the bars\n",
    "bars = plt.bar(bar_positions, eY, width=bar_width)\n",
    "\n",
    "# # Set the y-limit to accommodate the annotation\n",
    "# plt.ylim(0, 3)\n",
    "\n",
    "# # Add a horizontal line at the y-axis limit\n",
    "# plt.axhline(y=1, linestyle='--', color='red')\n",
    "\n",
    "# # Annotate bars with their y-values if they exceed the y-axis limit\n",
    "# for bar in bars:\n",
    "#     yval = bar.get_height()\n",
    "#     if yval > 3:\n",
    "#         plt.text(bar.get_x() + bar.get_width()/2, 2.75, f'{yval:.0f}', ha='center', va='bottom',color='black', fontsize=10,\n",
    "#                  bbox=dict(boxstyle='round', edgecolor='red', facecolor='none', linewidth=1))\n",
    "\n",
    "# Customize the plot\n",
    "plt.xticks(bar_positions, X1, rotation=90)\n",
    "plt.grid()\n",
    "plt.title(\"Ratios of Energies between little and big cores of XU4\")\n",
    "plt.tight_layout()\n",
    "\n",
    "# Save the plot to a file and display\n",
    "plt.savefig(\"EnergyRatioXU4.png\")\n",
    "plt.show()"
   ]
  },
  {
   "cell_type": "code",
   "execution_count": null,
   "id": "2085f19e-3819-4038-b770-3138a704fee2",
   "metadata": {},
   "outputs": [],
   "source": [
    "eY = []\n",
    "for i in range(48):\n",
    "    eY.append(Energy4[i]/Energy3[i])\n",
    "plt.bar(X3, eY)\n",
    "plt.xticks(rotation=90)\n",
    "plt.axhline(y=1, linestyle='--', color='red')\n",
    "plt.grid()\n",
    "plt.title(\"Ratios of Energies between little and big cores of N2L\")\n",
    "plt.legend()\n",
    "plt.tight_layout()\n",
    "plt.savefig(\"EnergiesRatioN2L.png\")\n",
    "plt.show()"
   ]
  }
 ],
 "metadata": {
  "kernelspec": {
   "display_name": "Python 3 (ipykernel)",
   "language": "python",
   "name": "python3"
  },
  "language_info": {
   "codemirror_mode": {
    "name": "ipython",
    "version": 3
   },
   "file_extension": ".py",
   "mimetype": "text/x-python",
   "name": "python",
   "nbconvert_exporter": "python",
   "pygments_lexer": "ipython3",
   "version": "3.10.12"
  }
 },
 "nbformat": 4,
 "nbformat_minor": 5
}
